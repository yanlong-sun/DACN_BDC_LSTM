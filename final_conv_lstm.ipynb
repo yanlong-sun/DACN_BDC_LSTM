{
  "nbformat": 4,
  "nbformat_minor": 0,
  "metadata": {
    "colab": {
      "name": "final_conv_lstm",
      "provenance": [],
      "collapsed_sections": [],
      "machine_shape": "hm",
      "include_colab_link": true
    },
    "kernelspec": {
      "display_name": "Python 3",
      "language": "python",
      "name": "python3"
    },
    "language_info": {
      "codemirror_mode": {
        "name": "ipython",
        "version": 3
      },
      "file_extension": ".py",
      "mimetype": "text/x-python",
      "name": "python",
      "nbconvert_exporter": "python",
      "pygments_lexer": "ipython3",
      "version": "3.7.0"
    },
    "accelerator": "GPU"
  },
  "cells": [
    {
      "cell_type": "markdown",
      "metadata": {
        "id": "view-in-github",
        "colab_type": "text"
      },
      "source": [
        "<a href=\"https://colab.research.google.com/github/yanlong-sun/DACN_BDC_LSTM/blob/master/final_conv_lstm.ipynb\" target=\"_parent\"><img src=\"https://colab.research.google.com/assets/colab-badge.svg\" alt=\"Open In Colab\"/></a>"
      ]
    },
    {
      "cell_type": "markdown",
      "metadata": {
        "id": "LiamqrfocRjy"
      },
      "source": [
        "## Introduction\n",
        "\n",
        "The\n",
        "[Convolutional LSTM](https://papers.nips.cc/paper/2015/file/07563a3fe3bbe7e3ba84431ad9d055af-Paper.pdf)\n",
        "architectures bring together time series processing and computer vision by\n",
        "introducing a convolutional recurrent cell in a LSTM layer. In this example, we will explore the\n",
        "Convolutional LSTM model in an application to next-frame prediction, the process\n",
        "of predicting what video frames come next given a series of past frames."
      ]
    },
    {
      "cell_type": "code",
      "metadata": {
        "colab": {
          "base_uri": "https://localhost:8080/"
        },
        "id": "T-N9Dk05o9_g",
        "outputId": "20758a01-c550-4c81-e7fb-a45ca05c3a42"
      },
      "source": [
        "from google.colab import drive\n",
        "drive.mount('/content/drive', force_remount=True)"
      ],
      "execution_count": 1,
      "outputs": [
        {
          "output_type": "stream",
          "text": [
            "Mounted at /content/drive\n"
          ],
          "name": "stdout"
        }
      ]
    },
    {
      "cell_type": "code",
      "metadata": {
        "colab": {
          "base_uri": "https://localhost:8080/"
        },
        "id": "UK9tk2nrpDF5",
        "outputId": "29eb2e38-f9a6-4dba-c1b3-847f6d54f4c7"
      },
      "source": [
        "%cd drive/My\\ Drive/test/"
      ],
      "execution_count": 2,
      "outputs": [
        {
          "output_type": "stream",
          "text": [
            "/content/drive/My Drive/test\n"
          ],
          "name": "stdout"
        }
      ]
    },
    {
      "cell_type": "markdown",
      "metadata": {
        "id": "7EfrG9SUcRjz"
      },
      "source": [
        "## Setup"
      ]
    },
    {
      "cell_type": "code",
      "metadata": {
        "id": "D0_T-4QPcRjz"
      },
      "source": [
        "import numpy as np\n",
        "import matplotlib.pyplot as plt\n",
        "\n",
        "import tensorflow as tf\n",
        "from tensorflow import keras\n",
        "from tensorflow.keras import layers\n",
        "\n",
        "import io\n",
        "import imageio\n",
        "from IPython.display import Image, display\n",
        "from ipywidgets import widgets, Layout, HBox"
      ],
      "execution_count": 3,
      "outputs": []
    },
    {
      "cell_type": "markdown",
      "metadata": {
        "id": "URMnEwcDcRj0"
      },
      "source": [
        "## Dataset Construction\n",
        "\n",
        "For next-frame prediction, our model will be using a previous frame,\n",
        "which we'll call `f_n`, to predict a new frame, called `f_(n + 1)`.\n",
        "To allow the model to create these predictions, we'll need to process\n",
        "the data such that we have \"shifted\" inputs and outputs, where the\n",
        "input data is frame `x_n`, being used to predict frame `y_(n + 1)`."
      ]
    },
    {
      "cell_type": "code",
      "metadata": {
        "id": "Z85ldhMbcRj0"
      },
      "source": [
        "import os\n",
        "path = r'../project/Dataset/training_data/training_data_bmp/masks_npy_in10/'\n",
        "npy_list = sorted(os.listdir(path))\n",
        "npy_nums = len(npy_list)\n",
        "print(npy_nums)\n",
        "choosen_idx = np.arange(npy_nums)\n",
        "np.random.shuffle(choosen_idx)\n",
        "print(choosen_idx)\n",
        "training_data = np.empty([1000, 5, 256, 256, 1], dtype=np.uint8)\n",
        "valid_data = np.empty([100, 5, 256, 256, 1], dtype=np.uint8)\n",
        "for count, i in enumerate(choosen_idx):\n",
        "    npy_name = path + npy_list[i]\n",
        "    loaded_npy = np.load(npy_name)\n",
        "    loaded_npy = loaded_npy[0:5, :, :]\n",
        "    loaded_npy = np.expand_dims(loaded_npy, axis=-1)\n",
        "    if count < 1000:\n",
        "        training_data[count, :, :, :, :] = loaded_npy\n",
        "        continue\n",
        "    elif 1000 <= count < 1100:\n",
        "        valid_data[count-1000, :, :, :, :] = loaded_npy\n",
        "        continue\n",
        "    break\n",
        "np.save(\"training_data.npy\", training_data)\n",
        "np.save(\"valid_data.npy\", valid_data)"
      ],
      "execution_count": null,
      "outputs": []
    },
    {
      "cell_type": "code",
      "metadata": {
        "id": "Kggu-QRa8QQd"
      },
      "source": [
        "#training_data = np.load(\"training_data.npy\")\n",
        "valid_data = np.load(\"valid_data.npy\")"
      ],
      "execution_count": 15,
      "outputs": []
    },
    {
      "cell_type": "code",
      "metadata": {
        "colab": {
          "base_uri": "https://localhost:8080/"
        },
        "id": "cVwlakoT8Tav",
        "outputId": "2389db90-c39f-4e62-d89f-10ad6590c1eb"
      },
      "source": [
        "def create_shifted_frames(data):\n",
        "    x = data[:, 0:data.shape[1] - 1, :, :]/255\n",
        "    y = data[:, 1:data.shape[1], :, :]/255\n",
        "    return x, y\n",
        "\n",
        "x_train, y_train = create_shifted_frames(training_data)\n",
        "x_valid, y_valid = create_shifted_frames(valid_data)\n",
        "print(\"Training Dataset Shapes: \" + str(x_train.shape) + \", \" + str(y_train.shape))\n",
        "print(\"Validation Dataset Shapes: \" + str(x_valid.shape) + \", \" + str(y_valid.shape))\n",
        "np.save(\"x_train.npy\", x_train)\n",
        "np.save(\"y_train.npy\", y_train)\n",
        "np.save(\"x_valid.npy\", x_valid)\n",
        "np.save(\"y_valid.npy\", y_valid)"
      ],
      "execution_count": 9,
      "outputs": [
        {
          "output_type": "stream",
          "text": [
            "Training Dataset Shapes: (1000, 4, 256, 256, 1), (1000, 4, 256, 256, 1)\n",
            "Validation Dataset Shapes: (100, 4, 256, 256, 1), (100, 4, 256, 256, 1)\n"
          ],
          "name": "stdout"
        }
      ]
    },
    {
      "cell_type": "markdown",
      "metadata": {
        "id": "RR5fQDdXcRj1"
      },
      "source": [
        "## Data Visualization\n",
        "\n",
        "Our data consists of sequences of frames, each of which\n",
        "are used to predict the upcoming frame. Let's take a look\n",
        "at some of these sequential frames."
      ]
    },
    {
      "cell_type": "code",
      "metadata": {
        "colab": {
          "base_uri": "https://localhost:8080/",
          "height": 160
        },
        "id": "DrH2ELPhcRj1",
        "outputId": "1e584f66-ea51-4748-ce91-ed9df7fa99da"
      },
      "source": [
        "# Construct a figure on which we will visualize the images.\n",
        "fig, axes = plt.subplots(1, 5 , figsize=(10, 8))\n",
        "# Plot each of the sequential images for one random data example.\n",
        "data_choice = np.random.choice(range(len(training_data)), size=1)[0]\n",
        "for idx, ax in enumerate(axes.flat):\n",
        "    img = tf.squeeze(training_data[data_choice][idx])\n",
        "    ax.imshow(img, cmap=\"gray\")\n",
        "    ax.set_title(f\"Frame {idx + 1}\")\n",
        "    ax.axis(\"off\")\n",
        "\n",
        "# Print information and display the figure.\n",
        "print(f\"Displaying frames for example {data_choice}.\")\n",
        "plt.show()"
      ],
      "execution_count": 13,
      "outputs": [
        {
          "output_type": "stream",
          "text": [
            "Displaying frames for example 376.\n"
          ],
          "name": "stdout"
        },
        {
          "output_type": "display_data",
          "data": {
            "image/png": "[encoded data removed]",
            "text/plain": [
              "<Figure size 720x576 with 5 Axes>"
            ]
          },
          "metadata": {
            "tags": [],
            "needs_background": "light"
          }
        }
      ]
    },
    {
      "cell_type": "markdown",
      "metadata": {
        "id": "XLZojm-ocRj2"
      },
      "source": [
        "## Model Construction\n",
        "\n",
        "To build a Convolutional LSTM model, we will use the\n",
        "`ConvLSTM2D` layer, which will accept inputs of shape\n",
        "`(batch_size, num_frames, width, height, channels)`, and return\n",
        "a prediction movie of the same shape."
      ]
    },
    {
      "cell_type": "code",
      "metadata": {
        "id": "Mgiq__Il0Eeo"
      },
      "source": [
        "x_train, y_train = np.load(\"x_train.npy\"), np.load(\"y_train.npy\")\n",
        "x_valid, y_valid = np.load(\"x_valid.npy\"), np.load(\"y_valid.npy\")"
      ],
      "execution_count": null,
      "outputs": []
    },
    {
      "cell_type": "code",
      "metadata": {
        "id": "P-wLf5UncRj2",
        "colab": {
          "base_uri": "https://localhost:8080/"
        },
        "outputId": "e78c2b8f-b017-460c-a8e6-01f0780f1adc"
      },
      "source": [
        "# Construct the input layer with no definite frame size.\n",
        "inp = layers.Input(shape=(None, *x_train.shape[2:]))\n",
        "\n",
        "# We will construct 3 `ConvLSTM2D` layers with batch normalization,\n",
        "# followed by a `Conv3D` layer for the spatiotemporal outputs.\n",
        "x = layers.ConvLSTM2D(\n",
        "    filters=64,\n",
        "    kernel_size=(3, 3),\n",
        "    padding=\"same\",\n",
        "    return_sequences=True,\n",
        "    go_backwards=True,\n",
        "    activation=\"relu\",\n",
        ")(inp)\n",
        "x = layers.BatchNormalization()(x)\n",
        "x = layers.ConvLSTM2D(\n",
        "    filters=64,\n",
        "    kernel_size=(3, 3),\n",
        "    padding=\"same\",\n",
        "    return_sequences=True,\n",
        "    go_backwards=True,\n",
        "    activation=\"relu\",\n",
        ")(x)\n",
        "x = layers.BatchNormalization()(x)\n",
        "\n",
        "x = layers.ConvLSTM2D(\n",
        "    filters=64,\n",
        "    kernel_size=(3, 3),\n",
        "    padding=\"same\",\n",
        "    return_sequences=True,\n",
        "    go_backwards=True,\n",
        "    activation=\"relu\",\n",
        ")(x)\n",
        "x = layers.Conv3D(\n",
        "    filters=1, kernel_size=(3, 3, 3), activation=\"sigmoid\", padding=\"same\"\n",
        ")(x)\n",
        "\n",
        "# Next, we will build the complete model and compile it.\n",
        "model = keras.models.Model(inp, x)\n",
        "model.compile(\n",
        "    loss=keras.losses.binary_crossentropy, optimizer=keras.optimizers.Adam(),\n",
        ")\n",
        "model.summary()"
      ],
      "execution_count": 26,
      "outputs": [
        {
          "output_type": "stream",
          "text": [
            "Model: \"model_6\"\n",
            "_________________________________________________________________\n",
            "Layer (type)                 Output Shape              Param #   \n",
            "=================================================================\n",
            "input_7 (InputLayer)         [(None, None, 256, 256, 1 0         \n",
            "_________________________________________________________________\n",
            "conv_lst_m2d_18 (ConvLSTM2D) (None, None, 256, 256, 64 150016    \n",
            "_________________________________________________________________\n",
            "batch_normalization_12 (Batc (None, None, 256, 256, 64 256       \n",
            "_________________________________________________________________\n",
            "conv_lst_m2d_19 (ConvLSTM2D) (None, None, 256, 256, 64 295168    \n",
            "_________________________________________________________________\n",
            "batch_normalization_13 (Batc (None, None, 256, 256, 64 256       \n",
            "_________________________________________________________________\n",
            "conv_lst_m2d_20 (ConvLSTM2D) (None, None, 256, 256, 64 295168    \n",
            "_________________________________________________________________\n",
            "conv3d_6 (Conv3D)            (None, None, 256, 256, 1) 1729      \n",
            "=================================================================\n",
            "Total params: 742,593\n",
            "Trainable params: 742,337\n",
            "Non-trainable params: 256\n",
            "_________________________________________________________________\n"
          ],
          "name": "stdout"
        }
      ]
    },
    {
      "cell_type": "markdown",
      "metadata": {
        "id": "qtLmMaPncRj3"
      },
      "source": [
        "## Model Training\n",
        "\n",
        "With our model and data constructed, we can now train the model."
      ]
    },
    {
      "cell_type": "code",
      "metadata": {
        "id": "YllGWph-cRj3",
        "colab": {
          "base_uri": "https://localhost:8080/"
        },
        "outputId": "96654af5-6a4e-4623-ef46-af58e0b7cb61"
      },
      "source": [
        "# Define some callbacks to improve training.\n",
        "early_stopping = keras.callbacks.EarlyStopping(monitor=\"val_loss\", patience=10)\n",
        "reduce_lr = keras.callbacks.ReduceLROnPlateau(monitor=\"val_loss\", patience=5)\n",
        "\n",
        "# Define modifiable training hyperparameters.\n",
        "epochs = 20\n",
        "batch_size = 5\n",
        "\n",
        "# Fit the model to the training data.\n",
        "model.fit(\n",
        "    x_train,\n",
        "    y_train,\n",
        "    batch_size=batch_size,\n",
        "    epochs=epochs,\n",
        "    validation_data=(x_valid, y_valid),\n",
        "    callbacks=[early_stopping, reduce_lr],\n",
        ")\n",
        "model.save(\"my_model\")"
      ],
      "execution_count": 27,
      "outputs": [
        {
          "output_type": "stream",
          "text": [
            "Epoch 1/20\n",
            "200/200 [==============================] - 275s 1s/step - loss: 0.0162 - val_loss: 0.0792\n",
            "Epoch 2/20\n",
            "200/200 [==============================] - 268s 1s/step - loss: 0.0031 - val_loss: 0.0093\n",
            "Epoch 3/20\n",
            "200/200 [==============================] - 268s 1s/step - loss: 0.0022 - val_loss: 0.0021\n",
            "Epoch 4/20\n",
            "200/200 [==============================] - 268s 1s/step - loss: 0.0018 - val_loss: 0.0018\n",
            "Epoch 5/20\n",
            "200/200 [==============================] - 268s 1s/step - loss: 0.0018 - val_loss: 0.0021\n",
            "Epoch 6/20\n",
            "200/200 [==============================] - 268s 1s/step - loss: 0.0016 - val_loss: 0.0029\n",
            "Epoch 7/20\n",
            "200/200 [==============================] - 268s 1s/step - loss: 0.0015 - val_loss: 0.0019\n",
            "Epoch 8/20\n",
            "200/200 [==============================] - 268s 1s/step - loss: 0.0013 - val_loss: 0.0046\n",
            "Epoch 9/20\n",
            "200/200 [==============================] - 268s 1s/step - loss: 0.0012 - val_loss: 0.0012\n",
            "Epoch 10/20\n",
            "200/200 [==============================] - 268s 1s/step - loss: 0.0013 - val_loss: 0.0057\n",
            "Epoch 11/20\n",
            "200/200 [==============================] - 268s 1s/step - loss: 0.0013 - val_loss: 0.0017\n",
            "Epoch 12/20\n",
            "200/200 [==============================] - 268s 1s/step - loss: 0.0011 - val_loss: 0.0035\n",
            "Epoch 13/20\n",
            "200/200 [==============================] - 268s 1s/step - loss: 0.0011 - val_loss: 0.0011\n",
            "Epoch 14/20\n",
            "200/200 [==============================] - 268s 1s/step - loss: 0.0011 - val_loss: 0.0030\n",
            "Epoch 15/20\n",
            "200/200 [==============================] - 268s 1s/step - loss: 0.0012 - val_loss: 0.0017\n",
            "Epoch 16/20\n",
            "200/200 [==============================] - 268s 1s/step - loss: 0.0011 - val_loss: 0.0029\n",
            "Epoch 17/20\n",
            "200/200 [==============================] - 268s 1s/step - loss: 0.0011 - val_loss: 0.0013\n",
            "Epoch 18/20\n",
            "200/200 [==============================] - 268s 1s/step - loss: 0.0011 - val_loss: 0.0015\n",
            "Epoch 19/20\n",
            "200/200 [==============================] - 268s 1s/step - loss: 0.0011 - val_loss: 0.0012\n",
            "Epoch 20/20\n",
            "200/200 [==============================] - 268s 1s/step - loss: 0.0010 - val_loss: 0.0010\n",
            "INFO:tensorflow:Assets written to: my_model/assets\n"
          ],
          "name": "stdout"
        }
      ]
    },
    {
      "cell_type": "code",
      "metadata": {
        "id": "OxqpAiVOrW5_"
      },
      "source": [
        "def get_train_batch(x_train, y_train, batch_size):\n",
        "    while 1:\n",
        "        for i in range(0, len(x_train), batch_size):\n",
        "            x = x_train[i:i+batch_size]\n",
        "            y = y_train[i:i+batch_size]\n",
        "            yield({'input_1': x}, {'conv3d': y})\n",
        "\n",
        "\n",
        "# Define some callbacks to improve training.\n",
        "early_stopping = keras.callbacks.EarlyStopping(monitor=\"val_loss\", patience=10)\n",
        "reduce_lr = keras.callbacks.ReduceLROnPlateau(monitor=\"val_loss\", patience=5)\n",
        "\n",
        "# Define modifiable training hyperparameters.\n",
        "epochs = 20\n",
        "batch_size = 4\n",
        "# Fit the model to the training data.\n",
        "gen = get_train_batch(x_train, y_train, batch_size)\n",
        "model.fit(\n",
        "    gen,\n",
        "    epochs=epochs,\n",
        "    validation_data=get_train_batch(x_valid, y_valid, batch_size),\n",
        "    callbacks=[early_stopping, reduce_lr]\n",
        ")\n",
        "model.save(\"my_model\")"
      ],
      "execution_count": null,
      "outputs": []
    },
    {
      "cell_type": "markdown",
      "metadata": {
        "id": "pqjKjHW4cRj4"
      },
      "source": [
        "## Frame Prediction Visualizations\n",
        "\n",
        "With our model now constructed and trained, we can generate\n",
        "some example frame predictions based on a new video.\n",
        "\n",
        "We'll pick a random example from the validation set and\n",
        "then choose the first ten frames from them. From there, we can\n",
        "allow the model to predict 10 new frames, which we can compare\n",
        "to the ground truth frame predictions."
      ]
    },
    {
      "cell_type": "code",
      "metadata": {
        "colab": {
          "base_uri": "https://localhost:8080/",
          "height": 298
        },
        "id": "a3zDx-LUcRj4",
        "outputId": "126a3981-171d-47f3-e20c-445823d70e07"
      },
      "source": [
        "def dice_coeff(gt, out):\n",
        "    intersection = np.sum(gt * out)\n",
        "    dice = (2. * intersection + 0.000001) / (np.sum(gt) + np.sum(out) + 0.000001)\n",
        "    if dice > 1:\n",
        "        return -1\n",
        "    return dice\n",
        "\n",
        "# Select a random example from the validation dataset.\n",
        "example = valid_data[np.random.choice(range(len(valid_data)), size=1)[0]]\n",
        "\n",
        "# Pick the first/last ten frames from the example.\n",
        "frames = example[:4, ...]\n",
        "original_frames = example[:5, ...]\n",
        "print(frames.shape)\n",
        "# model = keras.models.load_model(\"my_model\")\n",
        "# Predict next frame of the 'frames'\n",
        "new_prediction = model.predict(np.expand_dims(frames, axis=0))\n",
        "new_prediction = np.squeeze(new_prediction, axis=0)\n",
        "predicted_frame = np.expand_dims(new_prediction[-1, ...], axis=0)\n",
        "dice = dice_coeff(original_frames[4], new_prediction)\n",
        "print(dice)\n",
        "# Extend the set of prediction frames.\n",
        "frames = np.concatenate((frames, predicted_frame), axis=0)\n",
        "\n",
        "# Construct a figure for the original and new frames.\n",
        "fig, axes = plt.subplots(2, 5, figsize=(20, 4))\n",
        "\n",
        "# Plot the original frames.\n",
        "for idx, ax in enumerate(axes[0]):\n",
        "    ax.imshow(np.squeeze(original_frames[idx]), cmap=\"gray\")\n",
        "    ax.set_title(f\"Frame {idx}\")\n",
        "    ax.axis(\"off\")\n",
        "\n",
        "# Plot the new frames.\n",
        "new_frames = frames[:5  , ...]\n",
        "for idx, ax in enumerate(axes[1]):\n",
        "    ax.imshow(np.squeeze(new_frames[idx]), cmap=\"gray\")\n",
        "    ax.set_title(f\"Frame {idx}\")\n",
        "    ax.axis(\"off\")\n",
        "\n",
        "# Display the figure.\n",
        "plt.show()"
      ],
      "execution_count": 38,
      "outputs": [
        {
          "output_type": "stream",
          "text": [
            "(4, 256, 256, 1)\n",
            "-1\n"
          ],
          "name": "stdout"
        },
        {
          "output_type": "display_data",
          "data": {
            "image/png": "[encoded data removed]",
            "text/plain": [
              "<Figure size 1440x288 with 10 Axes>"
            ]
          },
          "metadata": {
            "tags": [],
            "needs_background": "light"
          }
        }
      ]
    },
    {
      "cell_type": "markdown",
      "metadata": {
        "id": "TTlgdZwKcRj4"
      },
      "source": [
        "## Predicted Videos\n",
        "\n",
        "Finally, we'll pick a few examples from the validation set\n",
        "and construct some GIFs with them to see the model's\n",
        "predicted videos."
      ]
    },
    {
      "cell_type": "code",
      "metadata": {
        "id": "Y7myyc23cRj5"
      },
      "source": [
        "# Select a few random examples from the dataset.\n",
        "examples = val_dataset[np.random.choice(range(len(val_dataset)), size=5)]\n",
        "\n",
        "# Iterate over the examples and predict the frames.\n",
        "predicted_videos = []\n",
        "for example in examples:\n",
        "    # Pick the first/last ten frames from the example.\n",
        "    frames = example[:10, ...]\n",
        "    original_frames = example[10:, ...]\n",
        "    new_predictions = np.zeros(shape=(10, *frames[0].shape))\n",
        "\n",
        "    # Predict a new set of 10 frames.\n",
        "    for i in range(10):\n",
        "        # Extract the model's prediction and post-process it.\n",
        "        frames = example[: 10 + i + 1, ...]\n",
        "        new_prediction = model.predict(np.expand_dims(frames, axis=0))\n",
        "        new_prediction = np.squeeze(new_prediction, axis=0)\n",
        "        predicted_frame = np.expand_dims(new_prediction[-1, ...], axis=0)\n",
        "\n",
        "        # Extend the set of prediction frames.\n",
        "        new_predictions[i] = predicted_frame\n",
        "\n",
        "    # Create and save GIFs for each of the ground truth/prediction images.\n",
        "    for frame_set in [original_frames, new_predictions]:\n",
        "        # Construct a GIF from the selected video frames.\n",
        "        current_frames = np.squeeze(frame_set)\n",
        "        current_frames = current_frames[..., np.newaxis] * np.ones(3)\n",
        "        current_frames = (current_frames * 255).astype(np.uint8)\n",
        "        current_frames = list(current_frames)\n",
        "\n",
        "        # Construct a GIF from the frames.\n",
        "        with io.BytesIO() as gif:\n",
        "            imageio.mimsave(gif, current_frames, \"GIF\", fps=5)\n",
        "            predicted_videos.append(gif.getvalue())\n",
        "\n",
        "# Display the videos.\n",
        "print(\" Truth\\tPrediction\")\n",
        "for i in range(0, len(predicted_videos), 2):\n",
        "    # Construct and display an `HBox` with the ground truth and prediction.\n",
        "    box = HBox(\n",
        "        [\n",
        "            widgets.Image(value=predicted_videos[i]),\n",
        "            widgets.Image(value=predicted_videos[i + 1]),\n",
        "        ]\n",
        "    )\n",
        "    display(box)"
      ],
      "execution_count": null,
      "outputs": []
    }
  ]
}